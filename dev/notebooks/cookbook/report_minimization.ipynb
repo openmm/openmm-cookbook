{
 "cells": [
  {
   "cell_type": "raw",
   "execution_count": 0,
   "id": "5c527c28-5a5f-4fa4-a348-4a844dd95f3e",
   "metadata": {
    "raw_mimetype": "text/restructuredtext"
   },
   "outputs": [],
   "source": [
    ".. index:: barostat, thermostat, application layer"
   ]
  },
  {
   "cell_type": "markdown",
   "id": "e174828a",
   "metadata": {},
   "source": [
    "## Reporting Minimization\n",
    "\n",
    "You can report the status of [simulation.minimizeEnergy()](http://docs.openmm.org/latest/api-python/generated/openmm.app.simulation.Simulation.html?#openmm.app.simulation.Simulation.minimizeEnergy) using a [MinimizationReporter](http://docs.openmm.org/latest/api-python/generated/openmm.openmm.MinimizationReporter.html). Note that `MinimizationReporter` was introduced in OpenMM 8.1.\n",
    "\n",
    "The syntax for doing this is somewhat different to typical OpenMM functionality. You will need to define a subclass of `MinimizationReporter` that has a `report()` method. Within this report method you can write code to take any action you want. The report method is called every iteration of the minimizer. Read the [API documentation](http://docs.openmm.org/latest/api-python/generated/openmm.openmm.MinimizationReporter.html) for more explanation.\n",
    "\n",
    "First we will create a test system then we will show an example."
   ]
  },
  {
   "cell_type": "code",
   "execution_count": 1,
   "id": "3592a17b",
   "metadata": {
    "execution": {
     "iopub.execute_input": "2025-10-21T21:50:06.793295Z",
     "iopub.status.busy": "2025-10-21T21:50:06.793128Z",
     "iopub.status.idle": "2025-10-21T21:50:07.297067Z",
     "shell.execute_reply": "2025-10-21T21:50:07.296272Z"
    }
   },
   "outputs": [],
   "source": [
    "from openmm.app import *\n",
    "from openmm import *\n",
    "from openmm.unit import *\n",
    "from sys import stdout\n",
    "\n",
    "pdb = PDBFile('villin.pdb')\n",
    "forcefield = ForceField('amber14-all.xml', 'amber14/tip3pfb.xml')\n",
    "system = forcefield.createSystem(pdb.topology, nonbondedMethod=PME,\n",
    "        nonbondedCutoff=1*nanometer, constraints=HBonds)\n",
    "integrator = LangevinMiddleIntegrator(300*kelvin, 1/picosecond, 0.004*picoseconds)\n",
    "simulation = Simulation(pdb.topology, system, integrator)\n",
    "simulation.context.setPositions(pdb.positions)"
   ]
  },
  {
   "cell_type": "markdown",
   "id": "2e7b659d",
   "metadata": {},
   "source": [
    "Below is an example which prints the current energy to the screen and saves the energy to an array for plotting. The comments explain each part."
   ]
  },
  {
   "cell_type": "code",
   "execution_count": 2,
   "id": "8692b40e",
   "metadata": {
    "execution": {
     "iopub.execute_input": "2025-10-21T21:50:07.298738Z",
     "iopub.status.busy": "2025-10-21T21:50:07.298507Z",
     "iopub.status.idle": "2025-10-21T21:50:07.302354Z",
     "shell.execute_reply": "2025-10-21T21:50:07.301668Z"
    }
   },
   "outputs": [],
   "source": [
    "\n",
    "# The class can have any name but it must subclass MinimizationReporter.\n",
    "class MyMinimizationReporter(MinimizationReporter):\n",
    "\n",
    "    # within the class you can declare variables that persist throughout the\n",
    "    # minimization\n",
    "\n",
    "    energies = [] # array to record progress\n",
    "\n",
    "    # you must override the report method and it must have this signature.\n",
    "    def report(self, iteration, x, grad, args):\n",
    "        '''\n",
    "        the report method is called every iteration of the minimization.\n",
    "        \n",
    "        Args:\n",
    "            iteration (int): The index of the current iteration. This refers \n",
    "                             to the current call to the L-BFGS optimizer.\n",
    "                             Each time the minimizer increases the restraint strength, \n",
    "                             the iteration index is reset to 0.\n",
    "\n",
    "            x (array-like): The current particle positions in flattened order: \n",
    "                            the three coordinates of the first particle, \n",
    "                            then the three coordinates of the second particle, etc.\n",
    "\n",
    "            grad (array-like): The current gradient of the objective function \n",
    "                               (potential energy plus restraint energy) with \n",
    "                               respect to the particle coordinates, in flattened order.\n",
    "\n",
    "            args (dict): Additional statistics described above about the current state of minimization. \n",
    "                         In particular:\n",
    "                         “system energy”: the current potential energy of the system\n",
    "                         “restraint energy”: the energy of the harmonic restraints\n",
    "                         “restraint strength”: the force constant of the restraints (in kJ/mol/nm^2)\n",
    "                         “max constraint error”: the maximum relative error in the length of any constraint\n",
    "\n",
    "        Returns:\n",
    "            bool : Specify if minimization should be stopped.\n",
    "        '''\n",
    "\n",
    "        # Within the report method you write the code you want to be executed at \n",
    "        # each iteration of the minimization.\n",
    "        # In this example we get the current energy, print it to the screen, and save it to an array. \n",
    "\n",
    "        current_energy = args['system energy']\n",
    "\n",
    "        if iteration % 100 == 0: # only print to screen every 100 iterations for clarity of webpage display\n",
    "            print(current_energy)\n",
    "\n",
    "            \n",
    "        self.energies.append(current_energy)\n",
    "\n",
    "        # The report method must return a bool specifying if minimization should be stopped. \n",
    "        # You can use this functionality for early termination.\n",
    "        return False"
   ]
  },
  {
   "cell_type": "markdown",
   "id": "9bbc621a",
   "metadata": {},
   "source": [
    "We now create an instance of the reporter and minimize the system with the reporter attached."
   ]
  },
  {
   "cell_type": "code",
   "execution_count": 3,
   "id": "6be58c3b",
   "metadata": {
    "execution": {
     "iopub.execute_input": "2025-10-21T21:50:07.303715Z",
     "iopub.status.busy": "2025-10-21T21:50:07.303532Z",
     "iopub.status.idle": "2025-10-21T21:50:40.869316Z",
     "shell.execute_reply": "2025-10-21T21:50:40.868606Z"
    }
   },
   "outputs": [
    {
     "name": "stdout",
     "output_type": "stream",
     "text": [
      "-142752.48330657594\n"
     ]
    },
    {
     "name": "stdout",
     "output_type": "stream",
     "text": [
      "-172735.87496689617\n"
     ]
    },
    {
     "name": "stdout",
     "output_type": "stream",
     "text": [
      "-176428.82802077176\n"
     ]
    },
    {
     "name": "stdout",
     "output_type": "stream",
     "text": [
      "-178104.4604042233\n"
     ]
    },
    {
     "name": "stdout",
     "output_type": "stream",
     "text": [
      "-179039.84896671076\n"
     ]
    },
    {
     "name": "stdout",
     "output_type": "stream",
     "text": [
      "-179475.4301879315\n"
     ]
    },
    {
     "name": "stdout",
     "output_type": "stream",
     "text": [
      "-179781.1654356702\n"
     ]
    },
    {
     "name": "stdout",
     "output_type": "stream",
     "text": [
      "-130436.52354204496\n"
     ]
    },
    {
     "name": "stdout",
     "output_type": "stream",
     "text": [
      "-154077.89566491777\n"
     ]
    },
    {
     "name": "stdout",
     "output_type": "stream",
     "text": [
      "-159124.59488733063\n"
     ]
    },
    {
     "name": "stdout",
     "output_type": "stream",
     "text": [
      "-161611.36438412574\n"
     ]
    },
    {
     "name": "stdout",
     "output_type": "stream",
     "text": [
      "-162999.85155256878\n"
     ]
    },
    {
     "name": "stdout",
     "output_type": "stream",
     "text": [
      "-163943.94659082295\n"
     ]
    },
    {
     "name": "stdout",
     "output_type": "stream",
     "text": [
      "-164639.87171078875\n"
     ]
    },
    {
     "name": "stdout",
     "output_type": "stream",
     "text": [
      "-165213.54173568106\n"
     ]
    },
    {
     "name": "stdout",
     "output_type": "stream",
     "text": [
      "-165754.11471428451\n"
     ]
    },
    {
     "name": "stdout",
     "output_type": "stream",
     "text": [
      "-166146.9724819359\n"
     ]
    },
    {
     "name": "stdout",
     "output_type": "stream",
     "text": [
      "-166532.43922283314\n"
     ]
    },
    {
     "name": "stdout",
     "output_type": "stream",
     "text": [
      "-166791.6217751626\n"
     ]
    },
    {
     "name": "stdout",
     "output_type": "stream",
     "text": [
      "-167011.488558811\n"
     ]
    },
    {
     "name": "stdout",
     "output_type": "stream",
     "text": [
      "-167146.53787356598\n"
     ]
    },
    {
     "name": "stdout",
     "output_type": "stream",
     "text": [
      "-167327.74136913507\n"
     ]
    },
    {
     "name": "stdout",
     "output_type": "stream",
     "text": [
      "-167466.0720058434\n"
     ]
    },
    {
     "name": "stdout",
     "output_type": "stream",
     "text": [
      "-167584.0639889347\n"
     ]
    },
    {
     "name": "stdout",
     "output_type": "stream",
     "text": [
      "-167664.41777108368\n"
     ]
    },
    {
     "name": "stdout",
     "output_type": "stream",
     "text": [
      "-167762.12181486373\n"
     ]
    },
    {
     "name": "stdout",
     "output_type": "stream",
     "text": [
      "-167861.48542155552\n"
     ]
    },
    {
     "name": "stdout",
     "output_type": "stream",
     "text": [
      "-167938.09445001202\n",
      "-167005.14132877722\n"
     ]
    },
    {
     "name": "stdout",
     "output_type": "stream",
     "text": [
      "-166669.73679526357\n"
     ]
    },
    {
     "data": {
      "image/png": "[encoded data removed]",
      "text/plain": [
       "<Figure size 640x480 with 1 Axes>"
      ]
     },
     "metadata": {},
     "output_type": "display_data"
    }
   ],
   "source": [
    "reporter = MyMinimizationReporter()\n",
    "\n",
    "simulation.minimizeEnergy(reporter=reporter)\n",
    "\n",
    "import matplotlib.pyplot as plt\n",
    "plt.plot(reporter.energies)\n",
    "plt.ylabel(\"System energy (kJ/mol)\")\n",
    "plt.xlabel(\"Minimization iteration\")\n",
    "plt.show()"
   ]
  },
  {
   "cell_type": "markdown",
   "id": "ccc8979c",
   "metadata": {},
   "source": [
    "You will notice that the energy does not change continuously and does not always decrease. This is because the L-BFGS algorithm used by the minimizer does not support constraints. The minimizer therefore replaces all constraints with harmonic restraints, then performs unconstrained minimization of a combined objective function that is the sum of the system’s potential energy and the restraint energy. Once minimization completes, it checks whether all constraints are satisfied to an acceptable tolerance. It not, it increases the strength of the harmonic restraints and performs additional minimization. If the error in constrained distances is especially large, it may choose to throw out all work that has been done so far and start over with stronger restraints. This has several important consequences:\n",
    "\n",
    "- The objective function being minimized not actually the same as the potential energy. \n",
    "- The objective function and the potential energy can both increase between iterations. \n",
    "- The total number of iterations performed could be larger than the number specified by the maxIterations argument, if that many iterations leaves unacceptable constraint errors. \n",
    "- All work is provisional. It is possible for the minimizer to throw it out and start over. "
   ]
  }
 ],
 "metadata": {
  "kernelspec": {
   "display_name": "Python 3",
   "language": "python",
   "name": "python3"
  },
  "language_info": {
   "codemirror_mode": {
    "name": "ipython",
    "version": 3
   },
   "file_extension": ".py",
   "mimetype": "text/x-python",
   "name": "python",
   "nbconvert_exporter": "python",
   "pygments_lexer": "ipython3",
   "version": "3.12.12"
  },
  "required_files": [
   "notebooks/cookbook/villin.pdb"
  ],
  "tags": [
   "barostat",
   "thermostat",
   "application layer"
  ],
  "vscode": {
   "interpreter": {
    "hash": "31f2aee4e71d21fbe5cf8b01ff0e069b9275f58929596ceb00d14d90e3e16cd6"
   }
  }
 },
 "nbformat": 4,
 "nbformat_minor": 5
}
