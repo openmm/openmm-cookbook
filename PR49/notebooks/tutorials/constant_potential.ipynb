{
 "cells": [
  {
   "cell_type": "raw",
   "execution_count": 0,
   "id": "6aca987f-3c52-4e48-b657-3cb8f9fa6bb4",
   "metadata": {
    "raw_mimetype": "text/restructuredtext"
   },
   "outputs": [],
   "source": [
    ".. index:: untagged"
   ]
  },
  {
   "cell_type": "markdown",
   "id": "98421965-471c-4e48-8e94-7947cc64ba53",
   "metadata": {},
   "source": [
    "# Simulating Conductive Electrodes with the Constant Potential Method\n",
    "\n",
    "The constant potential molecular dynamics method is an approach for simulating conductive materials with delocalized charges, and maintaining them at prescribed electric potentials.  In constant potential simulations, the charges on a prescribed set of particles (those belonging to the conductive material, or the \"electrode particles\") are allowed to fluctuate as they interact with other particles in the system.  This is useful for studying various kinds of electrochemical systems, *e.g.*, the electrode-electrolyte interface in a parallel plate capacitor.  In this tutorial, we will show how to set up a constant potential simulation using OpenMM's implementation of this method.  Specifically, we will use a capacitor system described in [Ref. 1](#References), with an aqueous NaCl electrolyte sandwiched between two Au electrodes:\n",
    "\n",
    "<img src=\"constant_potential_1.png\" width=\"800\" />"
   ]
  },
  {
   "cell_type": "markdown",
   "id": "8676b919-6a16-4ee4-85d1-95df020a8d36",
   "metadata": {},
   "source": [
    "## Theory\n",
    "\n",
    "A full exposition of the theory behind constant potential simulations is beyond the scope of this tutorial, but it is useful to be acquainted with the basics before getting started.  In ordinary molecular simulations with fixed charges, we wish to sample configurations $\\mathbf{r}^N$ of $N$ particles based on some potential energy function $U(\\mathbf{r}^N)$.  In the constant potential approach, some number $M$ of particles are allowed to have varying charges, so that we have $U(\\mathbf{r}^N,\\mathbf{q}^M)$.  The commonly used method implemented by OpenMM for constant potential simulations uses a Born-Oppenheimer-like approach in which $\\mathbf{q}^M$ is chosen at every step to minimize $U$ for the given $\\mathbf{r}^N$.  Since electrostatic interactions can be treated with Coulomb's law, $U$ is quadratic in the $\\mathbf{q}^M$, and minimizing it is equivalent to solving a linear system.\n",
    "\n",
    "Actually computing the coefficients of this system, which are functions of the particle positions, is more complex.  For parallel plate capacitor geometries like the one shown above, the system effectively has periodic boundary conditions in the plane of the electrodes, but is non-periodic in the direction normal to their surfaces.\n",
    "\n",
    "<img src=\"constant_potential_2.png\" width=\"800\" />\n",
    "\n",
    "There are a few options for using periodic boundary conditions in all three dimensions so that standard tools for computing the electrostatic interactions, such as the particle mesh Ewald method, can be employed.  Leaving empty space  between periodic images introduces various complications, since this effectively creates a pair of dissimilar capacitors, one containing an electrolyte material of interest, and another containing vacuum.  Another option is a double cell geometry, with each periodic image containing the capacitor system of interest and a reflected copy of it.  This keeps the net potential difference across the simulation cell, and its net dipole moment, zero:\n",
    "\n",
    "<img src=\"constant_potential_3.png\" width=\"800\" />\n",
    "\n",
    "The implementation in OpenMM supports such geometries, but they are more computationally expensive, requiring double the number of particles in the system of interest.  In this tutorial, we show how to use the finite field method described in [Ref. 2](#References), in which only a single copy of the system is needed, and an external electric field is applied to all charges in the system to maintain the desired electric potential difference across the periodic box:\n",
    "\n",
    "<img src=\"constant_potential_4.png\" width=\"800\" />\n",
    "\n",
    "There are many more details that this tutorial will not explore, but the reader is referred to [Refs. 1-3](#References) for more information about the theory, as well as to the [user guide](https://docs.openmm.org/latest/userguide/theory/02_standard_forces.html#constantpotentialforce) for the details of the specific implementation in OpenMM."
   ]
  },
  {
   "cell_type": "markdown",
   "id": "0a4b108e-4b88-4d45-b485-a66d0a7f1ece",
   "metadata": {},
   "source": [
    "## Setting Parameters\n",
    "\n",
    "To begin writing a script implementing our capacitor system in OpenMM, we will import OpenMM (as well as NumPy, which is just used to read in the initial coordinates for this example)."
   ]
  },
  {
   "cell_type": "code",
   "execution_count": 1,
   "id": "0c160e0d-9e82-4131-9d9a-98c32f3ae127",
   "metadata": {},
   "outputs": [],
   "source": [
    "import openmm\n",
    "import openmm.app\n",
    "import openmm.unit\n",
    "\n",
    "import numpy as np"
   ]
  },
  {
   "cell_type": "markdown",
   "id": "8d3d5824-430d-49af-bc0a-88a2062ac778",
   "metadata": {},
   "source": [
    "We now define various parameters for the simulation.  An appropriate geometry, force field, and parameters for a constant potential simulation will depend on the system you are interested in; here, we use [data provided with](https://gitlab.com/ampere2/scalfi_jcp_153_174704_2020/-/blob/8bdb701c9ab7a9d914d1efce7efd90c08e5432b0/typical_input_files/gold_NaCl1M/runtime.inpt) the work of [Ref. 1](#References).  We begin with the periodic box dimensions for the simulation:"
   ]
  },
  {
   "cell_type": "code",
   "execution_count": 2,
   "id": "dc5e0566-76b0-4a20-b7e7-adfa9688ddb3",
   "metadata": {},
   "outputs": [],
   "source": [
    "L_XY = 69.2206679755 * openmm.unit.bohr\n",
    "L_Z = 204.0 * openmm.unit.bohr\n",
    "VECTORS = (\n",
    "    (L_XY, 0.0 * openmm.unit.bohr, 0.0 * openmm.unit.bohr),\n",
    "    (0.0 * openmm.unit.bohr, L_XY, 0.0 * openmm.unit.bohr),\n",
    "    (0.0 * openmm.unit.bohr, 0.0 * openmm.unit.bohr, L_Z),\n",
    ")"
   ]
  },
  {
   "cell_type": "markdown",
   "id": "2516bce6-4eb9-47a3-b7cb-02d25498cb58",
   "metadata": {},
   "source": [
    "The electrolyte between the plates contains 2160 water molecules and 39 NaCl ion pairs.  Each electrode contains 1620 gold atoms:"
   ]
  },
  {
   "cell_type": "code",
   "execution_count": 3,
   "id": "1b28b668-d6f4-4b1e-8d16-6abcd57fc877",
   "metadata": {},
   "outputs": [],
   "source": [
    "N_WATER = 2160\n",
    "N_NACL = 39\n",
    "N_AU = 1620"
   ]
  },
  {
   "cell_type": "markdown",
   "id": "e858d76e-d538-4e4b-a769-1f3c83b0a2b0",
   "metadata": {},
   "source": [
    "We now define some standard parameters for each of the atom types:"
   ]
  },
  {
   "cell_type": "code",
   "execution_count": 4,
   "id": "360e56b7-9012-45cc-be89-c13ffc23e238",
   "metadata": {},
   "outputs": [],
   "source": [
    "# Atom masses:\n",
    "M_H = 1.008 * openmm.unit.dalton\n",
    "M_O = 15.9994 * openmm.unit.dalton\n",
    "M_NA = 22.9898 * openmm.unit.dalton\n",
    "M_CL = 35.453 * openmm.unit.dalton\n",
    "\n",
    "# Lennard-Jones energy scales:\n",
    "EPS_O = 0.6502 * openmm.unit.kilojoule_per_mole\n",
    "EPS_NA = 0.4184 * openmm.unit.kilojoule_per_mole\n",
    "EPS_CL = 0.4184 * openmm.unit.kilojoule_per_mole\n",
    "EPS_AU = 22.13336 * openmm.unit.kilojoule_per_mole\n",
    "\n",
    "# Lennard-Jones length scales:\n",
    "SIG_O = 3.166 * openmm.unit.angstrom\n",
    "SIG_NA = 2.584 * openmm.unit.angstrom\n",
    "SIG_CL = 4.401 * openmm.unit.angstrom\n",
    "SIG_AU = 2.951 * openmm.unit.angstrom\n",
    "\n",
    "# H atom charge for water:\n",
    "Q_H = 0.4238 * openmm.unit.elementary_charge"
   ]
  },
  {
   "cell_type": "markdown",
   "id": "5f933d75-6c79-4f65-8391-1c5059c2c896",
   "metadata": {},
   "source": [
    "This simulation uses the rigid 3-site SPC/E water model; the distances between its atoms are as follows:"
   ]
  },
  {
   "cell_type": "code",
   "execution_count": 5,
   "id": "9b7bb641-7519-4e86-b90f-817cdd575279",
   "metadata": {},
   "outputs": [],
   "source": [
    "L_OH = 1.88972 * openmm.unit.bohr\n",
    "L_HH = 3.08587 * openmm.unit.bohr"
   ]
  },
  {
   "cell_type": "markdown",
   "id": "66c57d8c-dfea-43a8-ae9c-65b87b4c0672",
   "metadata": {},
   "source": [
    "Next, we define the cutoff distance for Lennard-Jones and short-range electrostatic interactions:"
   ]
  },
  {
   "cell_type": "code",
   "execution_count": 6,
   "id": "f47cd1b4-ad9e-4deb-9927-7507890b5e6e",
   "metadata": {},
   "outputs": [],
   "source": [
    "R_CUT = 22.68 * openmm.unit.bohr"
   ]
  },
  {
   "cell_type": "markdown",
   "id": "e144876b-12f2-4bb6-812e-c3a9762b3efd",
   "metadata": {},
   "source": [
    "We can now define the potential we want to place across the plates of the capacitor:"
   ]
  },
  {
   "cell_type": "code",
   "execution_count": 7,
   "id": "ff313c79-beda-4214-8a52-1b91dff2a74a",
   "metadata": {},
   "outputs": [],
   "source": [
    "VOLT = openmm.unit.volt * openmm.unit.AVOGADRO_CONSTANT_NA\n",
    "POTENTIAL = 2.0 * VOLT"
   ]
  },
  {
   "cell_type": "markdown",
   "id": "c280d5f9-1c18-47ed-933d-b5f2a6e28c44",
   "metadata": {},
   "source": [
    "Note that we multiply OpenMM's `volt` unit by `AVOGADRO_CONSTANT_NA`.  This is because, in OpenMM's default unit system, which uses $\\mathrm{kJ/mol}$ for energy, and the elementary charge $\\mathrm{e}$ for charge, the units of electric potential are $\\mathrm{kJ/mol/e}$.  OpenMM's `volt` unit is missing the factor of $1/\\mathrm{mol}$, so multiplying by the Avogadro constant accounts for it.  For more information, see the [discussion on units in the Building Systems from Scratch introductory tutorial](building_systems.ipynb#Dimensionless-Units).\n",
    "\n",
    "Next, we define a parameter (commonly referred to as $\\eta$ in the constant potential literature) that controls the width of the distributions of charges on electrode atoms in the simulation.  The constant potential method as commonly formulated (and as implemented in OpenMM) uses Gaussian charge distributions, rather than point charges, for electrode atoms, since it is necessary to account for the self-interaction energy of the electrode charges to obtain a well-defined minimum to the potential energy with respect to the charges.  The resulting functional form of the electrostatic interactions is detailed in the [theory section of the user guide](https://docs.openmm.org/latest/userguide/theory/02_standard_forces.html#constantpotentialforce).\n",
    "\n",
    "For the matter of choosing an appropriate value of $\\eta$ for a given system, the reader is referred to [Ref. 4](#References).  Here, we simply use the value chosen in [Ref. 1](#References)."
   ]
  },
  {
   "cell_type": "code",
   "execution_count": 8,
   "id": "c50c151c-6a7f-49c3-bf60-ab4a64e6ef8f",
   "metadata": {},
   "outputs": [],
   "source": [
    "ETA = 0.955234657 / openmm.unit.bohr"
   ]
  },
  {
   "cell_type": "markdown",
   "id": "b36d0998-55e8-4975-b2c7-d7a0fd0a9101",
   "metadata": {},
   "source": [
    "OpenMM's constant potential implementation supports the Thomas-Fermi model, a simple semiclassical approximation to account for screening in imperfect conductors (for details, refer again to [Ref. 1](#References)).  This model requires a Thomas-Fermi length controlling the strength of the screening, and a volume per atom corresponding to the reciprocal of the atomic number density in the electrode material (sometimes referred to as a \"Voronoi volume\" in the literature)."
   ]
  },
  {
   "cell_type": "code",
   "execution_count": 9,
   "id": "7e68421f-fa3d-4753-bf0d-8ac352f1af73",
   "metadata": {},
   "outputs": [],
   "source": [
    "L_TF = 9.44863 * openmm.unit.bohr\n",
    "V_TF = 113.74173222606741 * openmm.unit.bohr ** 3"
   ]
  },
  {
   "cell_type": "markdown",
   "id": "47248200-7d6f-4fc5-b448-fc8f104181c9",
   "metadata": {},
   "source": [
    "Finally, we set some standard parameters for integrating the system.  For more details on choosing appropriate integration parameters, see the [Selecting Values for Simulation Parameters](simulation_parameters.ipynb) tutorial."
   ]
  },
  {
   "cell_type": "code",
   "execution_count": 10,
   "id": "94f08a55-dbf9-4497-a31b-140d54cd0731",
   "metadata": {},
   "outputs": [],
   "source": [
    "TEMP = 298.0 * openmm.unit.kelvin\n",
    "FRICTION = 1.0 / (100.0 * openmm.unit.femtosecond)\n",
    "STEP = 1.0 * openmm.unit.femtosecond"
   ]
  },
  {
   "cell_type": "markdown",
   "id": "bb89956e-f043-4fb1-8255-29656817fc62",
   "metadata": {},
   "source": [
    "## Building the System\n",
    "\n",
    "With all of the parameters defined, we can start building the OpenMM [System](https://docs.openmm.org/latest/api-python/generated/openmm.openmm.System.html) object.  For the Lennard-Jones interactions, we will use OpenMM's [NonbondedForce](https://docs.openmm.org/latest/api-python/generated/openmm.openmm.NonbondedForce.html), and for the electrostatic interactions and electrode charges, we will use the [ConstantPotentialForce](https://docs.openmm.org/latest/api-python/generated/openmm.openmm.ConstantPotentialForce.html)."
   ]
  },
  {
   "cell_type": "code",
   "execution_count": 11,
   "id": "2c9d0870-e366-4578-8dfc-5b5e45b71d9d",
   "metadata": {},
   "outputs": [],
   "source": [
    "system = openmm.System()\n",
    "lj = openmm.NonbondedForce()\n",
    "conp = openmm.ConstantPotentialForce()"
   ]
  },
  {
   "cell_type": "markdown",
   "id": "472db808-ca74-42ef-aa9e-df3a34ca551e",
   "metadata": {},
   "source": [
    "We will also show how to build a [Topology](https://docs.openmm.org/latest/api-python/generated/openmm.app.topology.Topology.html) corresponding to the system to simulate.  Though not strictly necessary, it will allow us to use a [Simulation](https://docs.openmm.org/latest/api-python/generated/openmm.app.simulation.Simulation.html) to integrate the system and report results."
   ]
  },
  {
   "cell_type": "code",
   "execution_count": 12,
   "id": "f65b161a-5f41-4187-b01a-94e8c189bb6e",
   "metadata": {},
   "outputs": [],
   "source": [
    "topology = openmm.app.Topology()\n",
    "chain_water = topology.addChain()\n",
    "chain_nacl = topology.addChain()\n",
    "chain_electrode = [topology.addChain(), topology.addChain()]"
   ]
  },
  {
   "cell_type": "markdown",
   "id": "5c0ece88-cd92-4c8a-9ec2-cfe6fdb4db67",
   "metadata": {},
   "source": [
    "We will create [Chain](https://docs.openmm.org/latest/api-python/generated/openmm.app.topology.Chain.html#openmm.app.topology.Chain) objects to group water molecules, ions in the electrolyte, and electrode atoms together.  In what follows, we will focus on the details that are important for the constant potential method; a more general introduction to building [System](https://docs.openmm.org/latest/api-python/generated/openmm.openmm.System.html) and [Topology](https://docs.openmm.org/latest/api-python/generated/openmm.app.topology.Topology.html) objects is available in the [Building Systems from Scratch introductory tutorial](building_systems.ipynb).\n",
    "\n",
    "First, we add each water molecule to the system by:\n",
    "\n",
    "1. Adding the atoms to the [System](https://docs.openmm.org/latest/api-python/generated/openmm.openmm.System.html)\n",
    "2. Adding the rigid constraints between the atoms\n",
    "3. Adding a residue and atoms to the [Topology](https://docs.openmm.org/latest/api-python/generated/openmm.app.topology.Topology.html)\n",
    "4. Adding particles to the [NonbondedForce](https://docs.openmm.org/latest/api-python/generated/openmm.openmm.NonbondedForce.html) to specify the Lennard-Jones interactions between them\n",
    "5. Adding exceptions to the [NonbondedForce](https://docs.openmm.org/latest/api-python/generated/openmm.openmm.NonbondedForce.html)\n",
    "6. Adding particles to the [ConstantPotentialForce](https://docs.openmm.org/latest/api-python/generated/openmm.openmm.ConstantPotentialForce.html) to specify the electrostatic interactions between them\n",
    "7. Adding exceptions to the [ConstantPotentialForce](https://docs.openmm.org/latest/api-python/generated/openmm.openmm.ConstantPotentialForce.html)"
   ]
  },
  {
   "cell_type": "code",
   "execution_count": 13,
   "id": "7f3af208-8c34-44b4-8a2b-327d3094dc70",
   "metadata": {},
   "outputs": [],
   "source": [
    "for i_water in range(N_WATER):\n",
    "    i_o = system.addParticle(M_O)\n",
    "    i_h1 = system.addParticle(M_H)\n",
    "    i_h2 = system.addParticle(M_H)\n",
    "\n",
    "    system.addConstraint(i_o, i_h1, L_OH)\n",
    "    system.addConstraint(i_o, i_h2, L_OH)\n",
    "    system.addConstraint(i_h1, i_h2, L_HH)\n",
    "\n",
    "    residue = topology.addResidue(\"WAT\", chain_water)\n",
    "    topology.addAtom(\"O\", openmm.app.element.oxygen, residue)\n",
    "    topology.addAtom(\"H1\", openmm.app.element.hydrogen, residue)\n",
    "    topology.addAtom(\"H2\", openmm.app.element.hydrogen, residue)\n",
    "\n",
    "    lj.addParticle(0.0, SIG_O, EPS_O)\n",
    "    lj.addParticle(0.0, 0.0, 0.0)\n",
    "    lj.addParticle(0.0, 0.0, 0.0)\n",
    "\n",
    "    lj.addException(i_o, i_h1, 0.0, 0.0, 0.0)\n",
    "    lj.addException(i_o, i_h2, 0.0, 0.0, 0.0)\n",
    "    lj.addException(i_h1, i_h2, 0.0, 0.0, 0.0)\n",
    "\n",
    "    conp.addParticle(-2.0 * Q_H)\n",
    "    conp.addParticle(Q_H)\n",
    "    conp.addParticle(Q_H)\n",
    "\n",
    "    conp.addException(i_o, i_h1, 0.0)\n",
    "    conp.addException(i_o, i_h2, 0.0)\n",
    "    conp.addException(i_h1, i_h2, 0.0)"
   ]
  },
  {
   "cell_type": "markdown",
   "id": "802072ec-d94c-4081-a845-dcf25170d474",
   "metadata": {},
   "source": [
    "Adding particles to a [ConstantPotentialForce](https://docs.openmm.org/latest/api-python/generated/openmm.openmm.ConstantPotentialForce.html) is as simple as calling [ConstantPotentialForce.addParticle()](https://docs.openmm.org/latest/api-python/generated/openmm.openmm.ConstantPotentialForce.html#openmm.openmm.ConstantPotentialForce.addParticle) and providing the particle charge.  Since it does not compute Lennard-Jones or other kinds of interactions, this is the only parameter accepted.  Exceptions for particles bonded to each other can be added with [ConstantPotentialForce.addException()](https://docs.openmm.org/latest/api-python/generated/openmm.openmm.ConstantPotentialForce.html#openmm.openmm.ConstantPotentialForce.addException).\n",
    "\n",
    "There are two important points to note about this setup.  First, though the charges on the water molecules are fixed, it is still necessary to set them in [ConstantPotentialForce](https://docs.openmm.org/latest/api-python/generated/openmm.openmm.ConstantPotentialForce.html) and not in [NonbondedForce](https://docs.openmm.org/latest/api-python/generated/openmm.openmm.NonbondedForce.html).  When using [ConstantPotentialForce](https://docs.openmm.org/latest/api-python/generated/openmm.openmm.ConstantPotentialForce.html) in a [System](https://docs.openmm.org/latest/api-python/generated/openmm.openmm.System.html), *all* Coulombic interactions must be accounted for by a single [ConstantPotentialForce](https://docs.openmm.org/latest/api-python/generated/openmm.openmm.ConstantPotentialForce.html).  Setting charges in more than one [ConstantPotentialForce](https://docs.openmm.org/latest/api-python/generated/openmm.openmm.ConstantPotentialForce.html), or any other force like a [NonbondedForce](https://docs.openmm.org/latest/api-python/generated/openmm.openmm.NonbondedForce.html) or [AmoebaMultipoleForce](https://docs.openmm.org/latest/api-python/generated/openmm.openmm.AmoebaMultipoleForce.html), will yield incorrect simulation results, since [ConstantPotentialForce](https://docs.openmm.org/latest/api-python/generated/openmm.openmm.ConstantPotentialForce.html) needs to account for the charges on every particle to properly solve for the charge distributions in the electrodes.\n",
    "\n",
    "Second, note that since the Lennard-Jones epsilon values are set to zero for the H atoms, as prescribed by the SPC/E water model, it might seem like the exceptions added with [NonbondedForce.addException()](https://docs.openmm.org/latest/api-python/generated/openmm.openmm.NonbondedForce.html#openmm.openmm.NonbondedForce.addException) are superfluous.  However, it is necessary to add these exceptions since most of OpenMM's platforms require the set of particles with exceptions to be the same across different forces that compute pairwise interactions.\n",
    "\n",
    "Next, we add the ions in the electrolyte.  This proceeds in the same way as the water molecules, except that there is no need to add constraints or exceptions since the ions are monatomic:"
   ]
  },
  {
   "cell_type": "code",
   "execution_count": 14,
   "id": "cbee74a5-a62b-41a9-866c-89585312c5c5",
   "metadata": {},
   "outputs": [],
   "source": [
    "for i_nacl in range(N_NACL):\n",
    "    system.addParticle(M_NA)\n",
    "    system.addParticle(M_CL)\n",
    "\n",
    "    residue = topology.addResidue(\"NA\", chain_nacl)\n",
    "    topology.addAtom(\"NA\", openmm.app.element.sodium, residue)\n",
    "    residue = topology.addResidue(\"CL\", chain_nacl)\n",
    "    topology.addAtom(\"CL\", openmm.app.element.chlorine, residue)\n",
    "\n",
    "    lj.addParticle(0.0, SIG_NA, EPS_NA)\n",
    "    lj.addParticle(0.0, SIG_CL, EPS_CL)\n",
    "\n",
    "    conp.addParticle(1.0 * openmm.unit.elementary_charge)\n",
    "    conp.addParticle(-1.0 * openmm.unit.elementary_charge)"
   ]
  },
  {
   "cell_type": "markdown",
   "id": "7a110b82-b7e8-42f2-a801-57a2e704cd55",
   "metadata": {},
   "source": [
    "Then, we add the electrodes.  For each electrode, we add its atoms first, and save the indices of the atoms in the [System](https://docs.openmm.org/latest/api-python/generated/openmm.openmm.System.html).  To actually mark a group of atoms as belonging to a conductive electrode, and thus having variable charges, we can call [ConstantPotentialForce.addElectrode()](https://docs.openmm.org/latest/api-python/generated/openmm.openmm.ConstantPotentialForce.html#openmm.openmm.ConstantPotentialForce.addElectrode).  Besides the indices of the electrode atoms, this method takes the potential at which to hold the electrode, a Gaussian width parameter that is the reciprocal of the commonly used $\\eta$ value, and a Thomas-Fermi parameter with units of reciprocal width that should be set to the square of the Thomas-Fermi length divided by the atomic volume.  (To simulate a perfect conductor and eschew the Thomas-Fermi model entirely, set this parameter to zero.)  In this example, for the potential difference $\\Delta\\psi$ we want to apply, we set the potential of one electrode to $-\\Delta\\psi/2$ and that of the other to $\\Delta\\psi/2$."
   ]
  },
  {
   "cell_type": "code",
   "execution_count": 15,
   "id": "c2f93b7c-4d94-4bd3-a485-b40ae0980d51",
   "metadata": {},
   "outputs": [],
   "source": [
    "for i_electrode in range(2):\n",
    "    indices = []\n",
    "\n",
    "    for i_au in range(N_AU):\n",
    "        indices.append(system.addParticle(0.0))\n",
    "\n",
    "        residue = topology.addResidue(\"AU\", chain_electrode[i_electrode])\n",
    "        topology.addAtom(\"AU\", openmm.app.element.gold, residue)\n",
    "\n",
    "        lj.addParticle(0.0, SIG_AU, EPS_AU)\n",
    "\n",
    "        conp.addParticle(0.0)\n",
    "\n",
    "    conp.addElectrode(indices, [-POTENTIAL / 2.0, POTENTIAL / 2.0][i_electrode], 1.0 / ETA, L_TF * L_TF / V_TF)"
   ]
  },
  {
   "cell_type": "markdown",
   "id": "80360fd8-2ebf-47a4-ae3a-8819747e1d30",
   "metadata": {},
   "source": [
    "A few notes are in order about this specification of the electrode atoms:\n",
    "\n",
    "* We have set the masses of all electrode atoms to zero, which fixes them in place.  This is consistent with the simulation in the study of [Ref. 1](#References), but it is not a requirement for the use of the constant potential method in OpenMM.  Some important notes for using non-rigid electrodes are provided at the end of this tutorial.\n",
    "* Here, we have set the charge on each electrode atom to zero when adding it to the [ConstantPotentialForce](https://docs.openmm.org/latest/api-python/generated/openmm.openmm.ConstantPotentialForce.html), but this is not necessary: the charges specified on all atoms added to electrodes will be ignored, and instead determined by solving the constant potential equations.\n",
    "* Each atom may belong to at most one electrode.  Note, however, that all \"electrodes\" added to a [ConstantPotentialForce](https://docs.openmm.org/latest/api-python/generated/openmm.openmm.ConstantPotentialForce.html) are permitted to exchange charge freely with each other, and the concept of an \"electrode\" in the OpenMM implementation only serves to group electrode particles with similar parameters together.\n",
    "\n",
    "We set standard options for computing the Lennard-Jones interactions with periodic boundary conditions.  We use `CutoffPeriodic` rather than `PME` since there are no electrostatic interactions computed by the [NonbondedForce](https://docs.openmm.org/latest/api-python/generated/openmm.openmm.NonbondedForce.html)."
   ]
  },
  {
   "cell_type": "code",
   "execution_count": 16,
   "id": "8c9b0147-a05e-455f-b7f0-65ac2e8a12c5",
   "metadata": {},
   "outputs": [],
   "source": [
    "lj.setNonbondedMethod(openmm.NonbondedForce.CutoffPeriodic)\n",
    "lj.setCutoffDistance(R_CUT)"
   ]
  },
  {
   "cell_type": "markdown",
   "id": "17579abc-10d2-4f70-842c-f1732e0dbacf",
   "metadata": {},
   "source": [
    "The [ConstantPotentialForce](https://docs.openmm.org/latest/api-python/generated/openmm.openmm.ConstantPotentialForce.html) always uses particle mesh Ewald to compute interactions, so there is no option to control the method for computing interactions."
   ]
  },
  {
   "cell_type": "code",
   "execution_count": 17,
   "id": "6906ed74-2a9e-4468-80ae-46e230badc7f",
   "metadata": {},
   "outputs": [],
   "source": [
    "conp.setCutoffDistance(R_CUT)"
   ]
  },
  {
   "cell_type": "markdown",
   "id": "af818918-43b0-4f41-9910-8d6ea3f7f91b",
   "metadata": {},
   "source": [
    "The cutoff distance should be large enough to avoid truncation artifacts in the interactions of the Gaussian charge distributions on the electrode atoms (see the [theory section](https://docs.openmm.org/latest/userguide/theory/02_standard_forces.html#constantpotentialforce) of the user guide).  For typical values of the cutoff distance $\\ge10\\ \\mathrm{Å}$ and Gaussian parameter $\\eta\\approx 2/\\mathrm{Å}$, this should not be an issue.\n",
    "\n",
    "OpenMM's implementation of constant potential offers two methods for solving for the electrode charges.  The default conjugate gradient (CG) solver is applicable to all simulation configurations, but is an iterative method, requiring multiple evaluations of the derivatives of the energy with respect to the electrode per timestep.  Thus, OpenMM also offers a matrix solver that precomputes the inverse of the coefficient matrix for the linear equations to be solved; this only requires a single evaluation of the derivatives per timestep.  However:\n",
    "\n",
    "* Since the coefficients of this matrix are functions of the electrode atom positions, the matrix solver can only be used if all electrode atoms are fixed in place by zeroing their masses.\n",
    "* Inverting the matrix takes $\\mathcal{O}(M^3)$ time whenever a simulation is started or the electrode atom positions are adjusted, and the solver requires $\\mathcal{O}(M^2)$ space to store the inverse, where $M$ is the number of electrode atoms.\n",
    "\n",
    "If you want to perform a simulation with non-rigid electrodes, you must use the default CG solver.  Otherwise, the matrix solver may be faster for smaller systems, whereas the CG solver is typically faster above a certain system size threshold.  This crossover point is dependent on the details of your system and the hardware that OpenMM is running on, so you should evaluate both solvers and choose the one with the best performance, or choose the CG solver if the matrix solver requires too much memory.  Here, we use the matrix solver, but again, this may not be the best choice for every system even if it is applicable here:"
   ]
  },
  {
   "cell_type": "code",
   "execution_count": 18,
   "id": "487b4e37-72df-4e96-a3be-df36cf5b4ac8",
   "metadata": {},
   "outputs": [],
   "source": [
    "conp.setConstantPotentialMethod(openmm.ConstantPotentialForce.Matrix)"
   ]
  },
  {
   "cell_type": "markdown",
   "id": "50d736e8-41ba-49ae-a0ca-709a46ee5ecb",
   "metadata": {},
   "source": [
    "Constant potential simulations are typically performed with a constraint of constant total charge.  Both solvers in OpenMM's implementation can enforce such a constraint:"
   ]
  },
  {
   "cell_type": "code",
   "execution_count": 19,
   "id": "a88af751-9e7a-4330-bcb8-8c5b6184bfc3",
   "metadata": {},
   "outputs": [],
   "source": [
    "conp.setUseChargeConstraint(True)"
   ]
  },
  {
   "cell_type": "markdown",
   "id": "c6c45616-5b41-4c2d-9261-beb34346ce04",
   "metadata": {},
   "source": [
    "By default, the total charge of the system, which includes both the variable (electrode) and fixed (electrolyte) charges, will be constrained to zero when the charge constraint is enabled, but this can be controlled with [ConstantPotential.setChargeConstraintTarget()](https://docs.openmm.org/latest/api-python/generated/openmm.openmm.ConstantPotentialForce.html#openmm.openmm.ConstantPotentialForce.setChargeConstraintTarget) if desired.\n",
    "\n",
    "Finally, as we have mentioned [above](#Theory), we want to set up a finite field constant potential simulation.  Here, for the set of initial coordinates we will read in, the electrode with the higher potential has a larger displacement along the $z$-axis than that with the lower potential, so we set the electric field vector as follows:"
   ]
  },
  {
   "cell_type": "code",
   "execution_count": 20,
   "id": "1fd1eb3e-41e6-4400-82c8-d86dcb29eba3",
   "metadata": {},
   "outputs": [],
   "source": [
    "conp.setExternalField((0.0, 0.0, -POTENTIAL / L_Z))"
   ]
  },
  {
   "cell_type": "markdown",
   "id": "6736bba4-45ce-4325-b46c-1038608f89da",
   "metadata": {},
   "source": [
    "If you have performed constant potential simulations [in LAMMPS](https://docs.lammps.org/fix_electrode.html), for instance, it is required to use exactly two electrodes, and space them apart along the $z$-axis: then the external electric field will be added automatically.  The OpenMM implementation places no such restrictions on the geometry; the electrodes and electric field can be oriented in any way desired.\n",
    "\n",
    "Finally, we add the forces to the system, set the periodic box vectors, create a Langevin integrator for temperature control, and create a [Simulation](https://docs.openmm.org/latest/api-python/generated/openmm.app.simulation.Simulation.html):"
   ]
  },
  {
   "cell_type": "code",
   "execution_count": 21,
   "id": "3d21095e-8984-4caf-97ba-36c513d53f77",
   "metadata": {},
   "outputs": [],
   "source": [
    "system.addForce(lj);\n",
    "system.addForce(conp);\n",
    "\n",
    "system.setDefaultPeriodicBoxVectors(*VECTORS)\n",
    "topology.setPeriodicBoxVectors(VECTORS)\n",
    "\n",
    "integrator = openmm.LangevinMiddleIntegrator(TEMP, FRICTION, STEP)\n",
    "\n",
    "simulation = openmm.app.Simulation(topology, system, integrator)"
   ]
  },
  {
   "cell_type": "markdown",
   "id": "dbdb1d83-5b42-485a-a330-b99435045c00",
   "metadata": {},
   "source": [
    "## Running the Simulation\n",
    "\n",
    "We will now load some initial position coordinates for the simulation.  Like the simulation parameters, these are adapted from the [data provided](https://gitlab.com/ampere2/scalfi_jcp_153_174704_2020/-/blob/8bdb701c9ab7a9d914d1efce7efd90c08e5432b0/typical_input_files/gold_NaCl1M/data.inpt) with [Ref. 1](#References)."
   ]
  },
  {
   "cell_type": "code",
   "execution_count": 22,
   "id": "69480ab2-039e-48d0-915a-79ac3a1acbbc",
   "metadata": {},
   "outputs": [],
   "source": [
    "simulation.context.setPositions(np.loadtxt(\"constant_potential_positions.txt\") * openmm.unit.bohr)"
   ]
  },
  {
   "cell_type": "markdown",
   "id": "cea93520-61da-40c9-a92b-38a789a34a6e",
   "metadata": {},
   "source": [
    "The capacitance $C$ of the system at the applied potential can be calculated from $Q=C\\Delta\\psi$, where $Q$ is the charge on an electrode.  We can write a custom reporter class (see the [Loading Input Files and Reporting Results](loading_and_reporting.ipynb#Writing-Custom-Reporters) introductory tutorial for more information on custom reporters) to calculate the capacitance.  Calling [ConstantPotentialForce.getCharges()](https://docs.openmm.org/latest/api-python/generated/openmm.openmm.ConstantPotentialForce.html#openmm.openmm.ConstantPotentialForce.getCharges) with a [Context](https://docs.openmm.org/latest/api-python/generated/openmm.openmm.Context.html) will return the charges of all particles in the system.  For those not part of an electrode, these will be the charges that were specified with [ConstantPotentialForce.addParticle()](https://docs.openmm.org/latest/api-python/generated/openmm.openmm.ConstantPotentialForce.html#openmm.openmm.ConstantPotentialForce.addParticle); otherwise, they will be the charges solved for by the selected constant potential solver.\n",
    "\n",
    "Since we set up the system, we could have saved the indices and potentials we set and used them to retrieve the appropriate charges and calculate the potential.  This is not necessary, however: we can use [ConstantPotentialForce.getElectrodeParameters()](https://docs.openmm.org/latest/api-python/generated/openmm.openmm.ConstantPotentialForce.html#openmm.openmm.ConstantPotentialForce.getElectrodeParameters) to retrieve the indices of all particles in an electrode, the imposed potential, the Gaussian width parameter, and the Thomas-Fermi scale parameter.  This is what we have done in the reporter below."
   ]
  },
  {
   "cell_type": "code",
   "execution_count": 23,
   "id": "642db201-536b-4aca-bb57-fafe2eba1fd5",
   "metadata": {},
   "outputs": [],
   "source": [
    "class CapacitanceReporter:\n",
    "    def __init__(self, reportInterval, conp, i_electrode, j_electrode):\n",
    "        self._reportInterval = reportInterval\n",
    "        self._conp = conp\n",
    "\n",
    "        # Retrieve and save the atom indices and electrode potentials.\n",
    "        # Ignore the Gaussian width and Thomas-Fermi parameters as these are unneeded.\n",
    "        self._i_indices, i_potential, _, _ = conp.getElectrodeParameters(i_electrode)\n",
    "        self._j_indices, j_potential, _, _ = conp.getElectrodeParameters(j_electrode)\n",
    "\n",
    "        # Calculate the potential difference between the electrodes.  Dividing by\n",
    "        # AVOGADRO_CONSTANT_NA removes a factor of 1/mol present in OpenMM's units.\n",
    "        self._potential = (j_potential - i_potential) / openmm.unit.AVOGADRO_CONSTANT_NA\n",
    "\n",
    "        # We will store a sum of capacitance values (per area) and number of samples, for computing an average.\n",
    "        self._capacitance_sum = 0.0 * openmm.unit.farad / openmm.unit.nanometer ** 2\n",
    "        self._capacitance_count = 0\n",
    "\n",
    "    def describeNextReport(self, simulation):\n",
    "        # Calculate the number of steps to the next report, if reports should happen at multiples of reportInterval steps.\n",
    "        steps = self._reportInterval - simulation.currentStep % self._reportInterval\n",
    "        return dict(steps=steps, include=[])\n",
    "\n",
    "    def report(self, simulation, state):\n",
    "        # Get all of the charges, and find the sum of the electrode charges.\n",
    "        # We divide out OpenMM's units before passing charges to Python's sum() function.\n",
    "        charges = self._conp.getCharges(simulation.context).value_in_unit(openmm.unit.elementary_charge)\n",
    "        charge_i = sum([charges[i] for i in self._i_indices]) * openmm.unit.elementary_charge\n",
    "        charge_j = sum([charges[j] for j in self._j_indices]) * openmm.unit.elementary_charge\n",
    "\n",
    "        # The charge on each electrode should be equal and opposite, so the difference will be\n",
    "        # twice the charge value we are looking for.  Dividing by the potential gives the capacitance,\n",
    "        # and dividing by the cross-sectional area makes it independent of the size of the box.\n",
    "        capacitance = (charge_j - charge_i) / (2 * self._potential)\n",
    "        area = state.getPeriodicBoxVectors()[0][0] * state.getPeriodicBoxVectors()[1][1]\n",
    "        self._capacitance_sum += capacitance / area\n",
    "        self._capacitance_count += 1\n",
    "\n",
    "    def capacitance(self):\n",
    "        return self._capacitance_sum / self._capacitance_count"
   ]
  },
  {
   "cell_type": "markdown",
   "id": "f42262e9-dff3-4af8-8da8-0834686876e4",
   "metadata": {},
   "source": [
    "We can now run some equilibration steps, add the reporter, and take some samples to estimate the capacitance.  The full simulation may take a few minutes to run on a GPU, or several times longer if OpenMM is using CPUs."
   ]
  },
  {
   "cell_type": "code",
   "execution_count": 24,
   "id": "4c0ca775-1510-466b-8002-760252cfc078",
   "metadata": {},
   "outputs": [],
   "source": [
    "simulation.step(10000)\n",
    "\n",
    "reporter = CapacitanceReporter(1000, conp, 0, 1)\n",
    "simulation.reporters.append(reporter)\n",
    "\n",
    "simulation.step(100000)"
   ]
  },
  {
   "cell_type": "markdown",
   "id": "7ed93962-60cf-456d-90a6-700bbf8ab362",
   "metadata": {},
   "source": [
    "The result obtained from OpenMM should be similar to the value of $0.798\\ \\mathrm{\\mu F/cm^2}$ [reported](https://gitlab.com/ampere2/scalfi_jcp_153_174704_2020/-/blob/8bdb701c9ab7a9d914d1efce7efd90c08e5432b0/DATA_FIGURES/FIGURE3/panel_c) by [Ref. 1](#References) for the selected Thomas-Fermi length of $5\\ \\mathrm{Å}$:"
   ]
  },
  {
   "cell_type": "code",
   "execution_count": 25,
   "id": "6c5b97df-eb49-4529-b8cd-574d7de726a7",
   "metadata": {},
   "outputs": [
    {
     "data": {
      "text/plain": [
       "0.7978055825633273 uF/(cm**2)"
      ]
     },
     "execution_count": 25,
     "metadata": {},
     "output_type": "execute_result"
    }
   ],
   "source": [
    "reporter.capacitance().in_units_of(openmm.unit.micro * openmm.unit.farad / openmm.unit.centimeter ** 2)"
   ]
  },
  {
   "cell_type": "markdown",
   "id": "51355302-b910-44bc-bb3a-ac1218ab37d1",
   "metadata": {},
   "source": [
    "## Notes and Troubleshooting\n",
    "\n",
    "In this tutorial, we have seen how to set up a constant potential simulation in OpenMM.  The basic procedure, and considerations discussed above, should apply in general to any kind of system you want to simulate with the constant potential method.  However, there are a few issues that did not arise in the example we replicated that you should nevertheless be aware of.\n",
    "\n",
    "First, in this example, all electrode atoms were held fixed.  You may want to run a simulation with non-rigid electrodes.  This can be done by giving the electrode atoms non-zero masses (and ensuring that the interactions you have specified between them will stabilize the desired structure).  You may want to fix an atom or layer of atoms in each electrode in place in this case, or add a [CMMotionRemover](https://docs.openmm.org/latest/api-python/generated/openmm.openmm.CMMotionRemover.html), to prevent them from drifting through the periodic box.  Here, we used the same fixed density for the electrolyte as [Ref. 1](#References), but you may want to use a barostat to equlibrate your constant potential simulation at constant pressure and determine the optimal spacing between the electrodes to avoid placing the electrolyte under excess pressure or under tension.  To do so, ensure first that you are using an anisotropic barostat like the [MonteCarloAnisotropicBarostat](https://docs.openmm.org/latest/api-python/generated/openmm.openmm.MonteCarloAnisotropicBarostat.html).  For finite field simulations, you will need to update the electric field strength whenever the box size changes.  This can be done by calling [ConstantPotentialForce.setExternalField()](https://docs.openmm.org/latest/api-python/generated/openmm.openmm.ConstantPotentialForce.html#openmm.openmm.ConstantPotentialForce.setExternalField) at the same interval as the update interval for the barostat, dividing the desired potential difference by the current width of the box, then calling [ConstantPotentialForce.updateParametersInContext()](https://docs.openmm.org/latest/api-python/generated/openmm.openmm.ConstantPotentialForce.html#openmm.openmm.ConstantPotentialForce.updateParametersInContext) if the external field changed to apply this change to the simulation.\n",
    "\n",
    "Second, if you are using the conjugate gradient solver, you may wish or need to adjust its convergence tolerance.  This can be done with [ConstantPotentialForce.setCGErrorTolerance()](https://docs.openmm.org/latest/api-python/generated/openmm.openmm.ConstantPotentialForce.html#openmm.openmm.ConstantPotentialForce.setCGErrorTolerance).  The default is $10^{-4}\\ \\mathrm{kJ/mol/e}$, or approximately $1.04\\ \\mathrm{\\mu V}$.  For typical applied potentials on the order of $1\\ \\mathrm{V}$, this accuracy should usually be sufficient.  If the solver is unable to converge to the requested tolerance, OpenMM will raise an exception.  This is usually caused by one of the following problems:\n",
    "\n",
    "* There is a close overlap between an electrode atom and another atom, and either the initial positions that were set are unreasonable or the simulation has become unstable.\n",
    "* The Hessian of the potential energy with respect to the electrode charges is not positive definite.  This can occur if the Gaussian width parameters for the electrodes are too large; ensure that they are set to an appropriate value.\n",
    "* The tolerance is set too small and numerical issues are preventing convergence.  Either increase the tolerance, or if you need the accuracy, switch from single precision to mixed or double precision if the OpenMM platform provides this option.\n",
    "\n",
    "For some more information about the CG solver including its built-in preconditioner, and information about using ConstantPotentialForce with polarizable force fields, consult the [theory section](https://docs.openmm.org/latest/userguide/theory/02_standard_forces.html#constantpotentialforce) of the user guide."
   ]
  },
  {
   "cell_type": "markdown",
   "id": "6cb2fd7c-5d6f-4280-ae4b-597b5079057c",
   "metadata": {},
   "source": [
    "## References\n",
    "\n",
    "1. [Scalfi, L., Dufils, T., Reeves, K. G., Rotenberg, B., and Salanne, M.  A semiclassical Thomas–Fermi model to tune the metallicity of electrodes in molecular simulations.  *J. Chem. Phys.* 153, 174704 (2020)](https://doi.org/10.1063/5.0028232)\n",
    "2. [Dufils, T., Jeanmairet, G., Rotenberg, B., Sprik, M., and Salanne, M.  Simulating electrochemical systems by combining the finite field method with a constant potential electrode.  *Phys. Rev. Lett.* 123, 195501 (2019)](https://doi.org/10.1103/PhysRevLett.123.195501)\n",
    "3. [Scalfi, L., Limmer, D. T., Coretti, A., Bonella, S., Madden, P. A., Salanne, M., and Rotenberg, B.  Charge fluctuations from molecular simulations in the constant-potential ensemble.  *Phys. Chem. Chem. Phys.*, 22, 10480 (2020)](https://doi.org/10.1039/C9CP06285H)\n",
    "4. [Reed, S. K., Lanning, O. J., and Madden, P. A.  Electrochemical interface between an ionic liquid and a model metallic electrode.  *J. Chem. Phys.* 126, 084704 (2007)](https://doi.org/10.1063/1.2464084)"
   ]
  }
 ],
 "metadata": {
  "kernelspec": {
   "display_name": "Python 3 (ipykernel)",
   "language": "python",
   "name": "python3"
  },
  "language_info": {
   "codemirror_mode": {
    "name": "ipython",
    "version": 3
   },
   "file_extension": ".py",
   "mimetype": "text/x-python",
   "name": "python",
   "nbconvert_exporter": "python",
   "pygments_lexer": "ipython3",
   "version": "3.13.7"
  },
  "required_files": [
   "notebooks/tutorials/constant_potential_positions.txt"
  ]
 },
 "nbformat": 4,
 "nbformat_minor": 5
}
